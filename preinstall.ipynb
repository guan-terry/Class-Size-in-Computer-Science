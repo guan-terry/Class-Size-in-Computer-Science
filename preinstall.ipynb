{
 "cells": [
  {
   "cell_type": "code",
   "execution_count": 3,
   "metadata": {},
   "outputs": [],
   "source": [
    "# Let us ensure that nose is installed. \n",
    "try:\n",
    "    import pandas as pd\n",
    "    import matplotlib.pyplot as plt\n",
    "    import matplotlib.patches as mpatches\n",
    "    import numpy as np\n",
    "    import seaborn as sns\n",
    "    import re\n",
    "    from bs4 import BeautifulSoup\n",
    "    from requests import get\n",
    "    import re\n",
    "    from selenium import webdriver\n",
    "    import csv\n",
    "    import plotly.graph_objects as go\n",
    "except:\n",
    "    !pip install plotly\n",
    "    !pip install pandas\n",
    "    !pip install matplotlib\n",
    "    !pip install seaborn\n",
    "    !pip install bs4\n",
    "    !pip install requests\n",
    "    !pip install selenium"
   ]
  },
  {
   "cell_type": "code",
   "execution_count": null,
   "metadata": {},
   "outputs": [],
   "source": []
  }
 ],
 "metadata": {
  "kernelspec": {
   "display_name": "Python 3",
   "language": "python",
   "name": "python3"
  },
  "language_info": {
   "codemirror_mode": {
    "name": "ipython",
    "version": 3
   },
   "file_extension": ".py",
   "mimetype": "text/x-python",
   "name": "python",
   "nbconvert_exporter": "python",
   "pygments_lexer": "ipython3",
   "version": "3.7.3"
  }
 },
 "nbformat": 4,
 "nbformat_minor": 2
}
