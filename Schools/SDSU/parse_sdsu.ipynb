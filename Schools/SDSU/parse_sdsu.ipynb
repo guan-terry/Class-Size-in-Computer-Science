{
 "cells": [
  {
   "cell_type": "code",
   "execution_count": null,
   "metadata": {},
   "outputs": [],
   "source": [
    "from bs4 import BeautifulSoup\n",
    "from requests import get\n",
    "import re\n",
    "from selenium import webdriver\n",
    "import pandas as pd\n",
    "import csv\n",
    "\n",
    "with open('SDSU files.csv', mode = 'w', newline = '') as csvfile:\n",
    "    writer = csv.DictWriter(csvfile, fieldnames = ['num_people_enrolled', 'total_class_size', 'class_number', 'term', 'professor'])\n",
    "    writer.writeheader()\n",
    "\n",
    "    for i in range(9, 20):\n",
    "        for term in range(2,5,2):\n",
    "            season = ' Fall'\n",
    "            if term == 4:\n",
    "                season = \" Spring\"\n",
    "            combined_temr = str(i) + season\n",
    "            url = 'https://sunspot.sdsu.edu/schedule/search?mode=search&period=20'+str(i) + str(term)+'&admin_unit=R&abbrev=CS&number=&suffix=&courseTitle=&scheduleNumber=&units=&instructor=&facility=&space=&meetingType=&startHours=&startMins=&endHours=&endMins=&remaining_seats_at_least='\n",
    "\n",
    "            if i == 9:\n",
    "                url = 'https://sunspot.sdsu.edu/schedule/search?mode=search&period=2009' + str(term) + '&admin_unit=R&abbrev=CS&number=&suffix=&courseTitle=&scheduleNumber=&units=&instructor=&facility=&space=&meetingType=&startHours=&startMins=&endHours=&endMins=&remaining_seats_at_least='\n",
    "            response = BeautifulSoup(get(url).text, 'lxml')\n",
    "            classes = response.find_all('div', {'class':'sectionMeeting'})\n",
    "            for class_block in classes:\n",
    "                seats = class_block.find('div',{'class':'sectionFieldSeats'})\n",
    "                if seats is not None:\n",
    "                    professor = class_block.find('div', {'class':'sectionFieldInstructor column'}).a\n",
    "                    professor_name = None;\n",
    "                    if professor is not None:\n",
    "                        professor_name = professor.text\n",
    "                    seats = seats.text.strip()\n",
    "                    class_name = class_block.find('div', {'class':'sectionFieldCourse column'}).text\n",
    "                    type = class_block.find('div', {'class':'sectionFieldType column'}).text\n",
    "                    if type == 'Lecture' or type == 'Seminar':\n",
    "                        enrolled_cap = seats.split('/')\n",
    "                        class_info = {\n",
    "                            'num_people_enrolled' : enrolled_cap[0],\n",
    "                            'total_class_size' : enrolled_cap[1],\n",
    "                            'class_number' : class_name.strip(),\n",
    "                            'term' : combined_temr,\n",
    "                            'professor': professor_name\n",
    "                        }\n",
    "                        writer.writerow(class_info)\n"
   ]
  }
 ],
 "metadata": {
  "kernelspec": {
   "display_name": "Python 3",
   "language": "python",
   "name": "python3"
  },
  "language_info": {
   "codemirror_mode": {
    "name": "ipython",
    "version": 3
   },
   "file_extension": ".py",
   "mimetype": "text/x-python",
   "name": "python",
   "nbconvert_exporter": "python",
   "pygments_lexer": "ipython3",
   "version": "3.7.3"
  }
 },
 "nbformat": 4,
 "nbformat_minor": 2
}
