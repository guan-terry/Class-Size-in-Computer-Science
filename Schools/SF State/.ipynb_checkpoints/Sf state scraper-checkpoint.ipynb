{
 "cells": [
  {
   "cell_type": "code",
   "execution_count": null,
   "metadata": {},
   "outputs": [],
   "source": [
    "from bs4 import BeautifulSoup\n",
    "import pandas as pd\n",
    "import requests\n",
    "import csv\n",
    "from selenium.webdriver.support.ui import Select\n",
    "from selenium.webdriver import Chrome\n",
    "import time\n",
    "## get the terms \n",
    "term = {1:\"Fall\", 0: \"Spring\"}\n",
    "terms =[]\n",
    "for i in range(2005, 2020):\n",
    "    for j in range(0,2):\n",
    "        terms.append(term.get(j)+\" \"+str(i))\n",
    "## get url \n",
    "base = \"https://webapps.sfsu.edu\"\n",
    "driver = 'chromedriver.exe'\n",
    "driver = Chrome(driver)\n",
    "url = \"https://webapps.sfsu.edu/public/classservices/classsearch\"\n",
    "driver.get(url)\n",
    "urls =[]\n",
    "for term in terms:\n",
    "    driver.get(url)\n",
    "    search_form = driver.find_element_by_id('classScheduleAdvanced_term').send_keys(term)\n",
    "    select = Select(driver.find_element_by_id('classScheduleAdvanced_subject'))\n",
    "    select.select_by_value(\"CSC\")\n",
    "    driver.find_element_by_id('classScheduleAdvanced_submit').click()\n",
    "    # get all elements \n",
    "    for i in range(0,6):\n",
    "        #parse table \n",
    "        time.sleep(5)\n",
    "        source = driver.page_source\n",
    "        soup = BeautifulSoup(source, 'lxml')\n",
    "        table = soup.find('table')\n",
    "        table_body = table.find('tbody')\n",
    "        rows = table_body.find_all('tr')\n",
    "        for row in rows:\n",
    "            head = row.find('th')\n",
    "            urls.append(base + head.find('a', href=True).get('href'))\n",
    "        driver.find_element_by_link_text('Next').click()\n",
    "print(\"all data collected\")"
   ]
  },
  {
   "cell_type": "code",
   "execution_count": null,
   "metadata": {},
   "outputs": [],
   "source": [
    "#for url in urls:\n",
    "import requests\n",
    "seats =[]\n",
    "enrolled=[]\n",
    "years=[]\n",
    "course=[]\n",
    "prof = []\n",
    "for url in urls:\n",
    "    html_content = requests.get(url)\n",
    "    soup = BeautifulSoup(html_content.text, 'lxml')\n",
    "    div = soup.find_all('div', class_=\"col-xs-5 col-md-6\")\n",
    "    title = soup.find('h2')\n",
    "    x = title.text.split('-')\n",
    "    y = x[0].split(']')\n",
    "    title =y[0]+\"]\"\n",
    "    year = soup.find('h1')\n",
    "    x = year.text.split('-')\n",
    "    x = x[1].split(' ')\n",
    "    year = x[1]+\" \"+x[2]\n",
    "    td = soup.find_all('td')\n",
    "    try:\n",
    "        pName = td[len(td)-1].text.lstrip().split(\"\\n\")[0]\n",
    "    except:\n",
    "        pName = \"Null\"\n",
    "    print(pName)\n",
    "    print(title)\n",
    "    print(year)\n",
    "    prof.append(pName)\n",
    "    seats.append(int(div[0].text))\n",
    "    enrolled.append(int(div[1].text))\n",
    "    years.append(year)\n",
    "    course.append(title)\n"
   ]
  },
  {
   "cell_type": "code",
   "execution_count": null,
   "metadata": {},
   "outputs": [],
   "source": []
  },
  {
   "cell_type": "code",
   "execution_count": 6,
   "metadata": {},
   "outputs": [
    {
     "name": "stdout",
     "output_type": "stream",
     "text": [
      "done\n"
     ]
    }
   ],
   "source": [
    "\n",
    "out_Data = pd.DataFrame({'term': years, 'Course_Name': course, 'enrolled': enrolled, 'total_Seats': seats,'Prof Name': prof})\n",
    "out_Data.to_csv(r'C:\\Users\\tomb3\\Desktop\\SF_State_Data.csv')\n",
    "print(\"done\")"
   ]
  },
  {
   "cell_type": "code",
   "execution_count": null,
   "metadata": {},
   "outputs": [],
   "source": []
  }
 ],
 "metadata": {
  "kernelspec": {
   "display_name": "Python 3",
   "language": "python",
   "name": "python3"
  },
  "language_info": {
   "codemirror_mode": {
    "name": "ipython",
    "version": 3
   },
   "file_extension": ".py",
   "mimetype": "text/x-python",
   "name": "python",
   "nbconvert_exporter": "python",
   "pygments_lexer": "ipython3",
   "version": "3.7.3"
  }
 },
 "nbformat": 4,
 "nbformat_minor": 2
}
