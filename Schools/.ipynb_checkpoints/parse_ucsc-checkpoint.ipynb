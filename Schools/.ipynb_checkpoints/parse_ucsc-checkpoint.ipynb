{
 "cells": [
  {
   "cell_type": "code",
   "execution_count": null,
   "metadata": {},
   "outputs": [],
   "source": [
    "from bs4 import BeautifulSoup\n",
    "import codecs\n",
    "import re\n",
    "import pandas as pd\n",
    "import csv\n",
    "with open('UCSC files.csv', mode = 'w', newline = '') as csvfile:\n",
    "    writer = csv.DictWriter(csvfile, fieldnames=['num_people_enrolled', 'total_class_size', 'class_number','term', 'professor'])\n",
    "    writer.writeheader()\n",
    "\n",
    "    seasons = ['FALL', 'SPRING', 'WINTER']\n",
    "    for season in seasons:\n",
    "        for j in range(4,20):\n",
    "            if j >= 5 or seasons is 'FALL':\n",
    "                folder = 'UCSC HTML\\\\' + season + ' ' + str(j) +'.html'\n",
    "\n",
    "                url = codecs.open(folder,'r', 'utf-8')\n",
    "                document = BeautifulSoup(url, 'html.parser')\n",
    "\n",
    "                body = document.find('div', {'class': 'panel panel-info center-block'})\n",
    "                panel_body = body.find('div', {'class': 'panel-body'})\n",
    "                each_class = panel_body.find_all('div', {'class': 'panel panel-default row'})\n",
    "\n",
    "                for i in each_class:\n",
    "                    each_body = i.find('div', {'class': 'panel-body'})\n",
    "                    enrollment = each_body.find_all('div', {'class': 'col-xs-6 col-sm-3'})\n",
    "                    lec_or_lab = each_body.find('div', {'class': 'col-xs-6 col-sm-6'}).text.split(' ')[1]\n",
    "                    enrollment_size = enrollment[2].text\n",
    "                    enrolled = enrollment_size.split(' ')\n",
    "                    prof = enrollment[1].text.split(' ')[1]\n",
    "\n",
    "                    class_name = i.a.text;\n",
    "                    class_name_num = class_name.split(' ')[1]\n",
    "                    if(lec_or_lab != 'LAB:'):\n",
    "                        class_info = {\n",
    "                        'num_people_enrolled' : enrolled[1],\n",
    "                        'total_class_size' : enrolled[3],\n",
    "                        'class_number' : class_name_num,\n",
    "                        'term' : season + ' 20' +  str(j),\n",
    "                        'professor': prof\n",
    "\t\t\t\t\t\t}\n",
    "                        writer.writerow(class_info)\n"
   ]
  }
 ],
 "metadata": {
  "kernelspec": {
   "display_name": "Python 3",
   "language": "python",
   "name": "python3"
  },
  "language_info": {
   "codemirror_mode": {
    "name": "ipython",
    "version": 3
   },
   "file_extension": ".py",
   "mimetype": "text/x-python",
   "name": "python",
   "nbconvert_exporter": "python",
   "pygments_lexer": "ipython3",
   "version": "3.7.3"
  }
 },
 "nbformat": 4,
 "nbformat_minor": 2
}
