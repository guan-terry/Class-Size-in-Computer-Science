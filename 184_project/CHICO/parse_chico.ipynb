{
 "cells": [
  {
   "cell_type": "code",
   "execution_count": null,
   "metadata": {},
   "outputs": [],
   "source": [
    "from bs4 import BeautifulSoup\n",
    "from requests import get\n",
    "import re\n",
    "from selenium import webdriver\n",
    "import pandas as pd\n",
    "import csv\n",
    "\n",
    "with open('CHICO files.csv', mode = 'w', newline = '') as csvfile:\n",
    "    writer = csv.DictWriter(csvfile, fieldnames = ['num_people_enrolled', 'total_class_size', 'class_number', 'term','professor'])\n",
    "    writer.writeheader()\n",
    "    cs_types = ['CSCI', 'CINS']\n",
    "    for cs_type in cs_types:\n",
    "        for i in range(8,20):\n",
    "            for term in range(0,2):\n",
    "                season = 'spr'\n",
    "                if term is 1:\n",
    "                    season = 'fa'\n",
    "                if i <= 9:\n",
    "                    year = '200' + str(i)\n",
    "                else:\n",
    "                    year = '20' + str(i)\n",
    "                url = 'http://ems.csuchico.edu/APSS/schedule/' + season + year +'/' + cs_type+'.shtml'\n",
    "                #print(url)\n",
    "                reponse = BeautifulSoup(get(url).text, 'lxml')\n",
    "                class_block_1 = reponse.find_all('tr', {'class':'classrow'})\n",
    "                class_block_2 = reponse.find_all('tr', {'class':'classrowalt'})\n",
    "                class_block = class_block_1 + class_block_2\n",
    "                for each_class_block in class_block:\n",
    "                    class_name = each_class_block.find('td', {'class':'cat_num'}).text\n",
    "                    capacity = each_class_block.find('td', {'class':'enrtot'}).text\n",
    "                    enrolled = each_class_block.find('td', {'class':'seatsavail'}).text\n",
    "                    professor = each_class_block.find('td', {'class':'Instructor'}).text\n",
    "                    #print(professor)\n",
    "\n",
    "                    class_type = each_class_block.find('td', {'class':'comp'}).text\n",
    "                    if class_type is not 'ACT':\n",
    "                        class_info = {\n",
    "                            'num_people_enrolled' : enrolled,\n",
    "                            'total_class_size': capacity,\n",
    "                            'class_number': class_name,\n",
    "                            'term': season+year,\n",
    "                            'professor':professor\n",
    "                        }\n",
    "                        writer.writerow(class_info)\n"
   ]
  }
 ],
 "metadata": {
  "kernelspec": {
   "display_name": "Python 3",
   "language": "python",
   "name": "python3"
  },
  "language_info": {
   "codemirror_mode": {
    "name": "ipython",
    "version": 3
   },
   "file_extension": ".py",
   "mimetype": "text/x-python",
   "name": "python",
   "nbconvert_exporter": "python",
   "pygments_lexer": "ipython3",
   "version": "3.7.3"
  }
 },
 "nbformat": 4,
 "nbformat_minor": 2
}
