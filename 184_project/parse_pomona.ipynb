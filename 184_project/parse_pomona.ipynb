{
 "cells": [
  {
   "cell_type": "code",
   "execution_count": 1,
   "metadata": {},
   "outputs": [],
   "source": [
    "#scrapes Pomona university from html folder for FALL/Spring semester"
   ]
  },
  {
   "cell_type": "code",
   "execution_count": null,
   "metadata": {},
   "outputs": [],
   "source": [
    "from bs4 import BeautifulSoup\n",
    "import codecs\n",
    "import re\n",
    "import pandas as pd\n",
    "import csv\n",
    "import os\n",
    "with open('Pomona_files.csv', mode = 'w', newline = '') as csvfile:\n",
    "    writer = csv.DictWriter(csvfile, fieldnames=['num_people_enrolled', 'total_class_size', 'class_number','term', 'professor'])\n",
    "    writer.writeheader()\n",
    "\n",
    "    seasons = ['FALL', 'SPRING']\n",
    "    #scrapes 2004-2019 for fall and 2011-2019 for spring\n",
    "    for season in seasons:\n",
    "        for j in range(4,20):\n",
    "            if (season is 'SPRING' and j > 10) or season is 'FALL':\n",
    "                if (j == 6 and season is 'FALL') or (j == 14) or ((j == 13 or j == 17)and season is 'SPRING'):\n",
    "                    continue\n",
    "                loc = 'POMONA HTML/' + season + ' ' + str(j) +'.htm'\n",
    "                url = codecs.open(loc,'r', 'utf-8')\n",
    "\n",
    "\n",
    "                document = BeautifulSoup(url, 'html.parser')\n",
    "                body = document.find('div', {'class': 'pContent CS'})\n",
    "                panel_body = body.find('tbody', {'class': 'gbody'})\n",
    "                each_class = panel_body.find_all('tr')\n",
    "\n",
    "                t = 0\n",
    "\n",
    "                for i in each_class:\n",
    "\n",
    "                    if (t % 4) == 0:\n",
    "                        each_body = i.find_all('td', {'valign': 'top'})\n",
    "                        class_name = each_body[1].text\n",
    "\n",
    "                        professor = each_body[3].li.text\n",
    "                        class_size_raw = each_body[4].text\n",
    "                        num_people_enrolled = class_size_raw.split(\"/\",1)[0]\n",
    "                        total_class_size = class_size_raw.split(\"/\",1)[1]\n",
    "\n",
    "                        class_info = {\n",
    "                        'num_people_enrolled' : num_people_enrolled,\n",
    "                        'total_class_size' : total_class_size ,\n",
    "                        'class_number' : class_name,\n",
    "                        'term' : season + ' 20' +  str(j),\n",
    "                        'professor' : professor\n",
    "                        }\n",
    "                        writer.writerow(class_info)\n",
    "\n",
    "                    t = t + 1\n"
   ]
  }
 ],
 "metadata": {
  "kernelspec": {
   "display_name": "Python 3",
   "language": "python",
   "name": "python3"
  },
  "language_info": {
   "codemirror_mode": {
    "name": "ipython",
    "version": 3
   },
   "file_extension": ".py",
   "mimetype": "text/x-python",
   "name": "python",
   "nbconvert_exporter": "python",
   "pygments_lexer": "ipython3",
   "version": "3.7.3"
  }
 },
 "nbformat": 4,
 "nbformat_minor": 2
}
